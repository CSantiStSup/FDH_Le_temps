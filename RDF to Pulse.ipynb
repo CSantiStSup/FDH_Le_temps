{
 "cells": [
  {
   "cell_type": "markdown",
   "metadata": {},
   "source": [
    "# Desirialization of the RDF graph from Le Temps database\n",
    "\n",
    "This code aims at creating pulses for the ClioWire platform.\n",
    "\n",
    "##### Note:\n",
    "Because of the confidential nature of the data, all of the items from the dataset are stored locally. "
   ]
  },
  {
   "cell_type": "code",
   "execution_count": 12,
   "metadata": {},
   "outputs": [],
   "source": [
    "#Importing the necessary librairies\n",
    "import pandas as pd\n",
    "import numpy as np\n",
    "import glob\n",
    "import re"
   ]
  },
  {
   "cell_type": "code",
   "execution_count": 2,
   "metadata": {},
   "outputs": [],
   "source": [
    "#Getting all the CSV, obtained from SPARQL queries.\n",
    "allFiles = glob.glob(\"Data/*.csv\")"
   ]
  },
  {
   "cell_type": "code",
   "execution_count": 3,
   "metadata": {},
   "outputs": [
    {
     "data": {
      "text/plain": [
       "['Data\\\\ecrivain.csv']"
      ]
     },
     "metadata": {},
     "output_type": "display_data"
    }
   ],
   "source": [
    "display(allFiles)"
   ]
  },
  {
   "cell_type": "markdown",
   "metadata": {},
   "source": [
    "## Sorting the SPARQL outputs into a well strctured DataFrame"
   ]
  },
  {
   "cell_type": "code",
   "execution_count": 82,
   "metadata": {},
   "outputs": [],
   "source": [
    "#Initiating the DataFrame\n",
    "Table = pd.DataFrame(columns=['issue', 'date', 'function', 'name', 'nationality', 'title', 'titleID'])\n",
    "K = 0\n",
    "while (K < int(len(allFiles))):\n",
    "    #Creating a DataFrame and filling it with the excel's data\n",
    "    title = allFiles[K][5:].replace('.csv', '')\n",
    "    df = pd.read_csv(allFiles[K])\n",
    "    df['function'] = title\n",
    "    df['titleID'] = '666'\n",
    "    Table = Table.append(df)\n",
    "    K+=1  \n",
    "\n",
    "\n",
    "\n",
    "#Extracting issue date\n",
    "Table['issue'] = Table['issue'] + Table.date.str[:10]\n",
    "Table['date'] = Table.date.str[:4]\n",
    "\n",
    "#Sorting values\n",
    "Table = Table.sort_values('date', ascending=False)\n",
    "\n",
    "#Keeping only alphabetical characters to be able to use the title as a hastaga\n",
    "Table['title'] = Table.title.str.replace('\\W', '')\n",
    "\n",
    "#Rearranging the page number by removing periods\n",
    "Table['page'] = Table['page'].astype(str).str[:2]\n",
    "Table['page'] = Table['page'].str.replace('.', '')"
   ]
  },
  {
   "cell_type": "code",
   "execution_count": 84,
   "metadata": {},
   "outputs": [
    {
     "data": {
      "text/html": [
       "<div>\n",
       "<style>\n",
       "    .dataframe thead tr:only-child th {\n",
       "        text-align: right;\n",
       "    }\n",
       "\n",
       "    .dataframe thead th {\n",
       "        text-align: left;\n",
       "    }\n",
       "\n",
       "    .dataframe tbody tr th {\n",
       "        vertical-align: top;\n",
       "    }\n",
       "</style>\n",
       "<table border=\"1\" class=\"dataframe\">\n",
       "  <thead>\n",
       "    <tr style=\"text-align: right;\">\n",
       "      <th></th>\n",
       "      <th>date</th>\n",
       "      <th>function</th>\n",
       "      <th>issue</th>\n",
       "      <th>name</th>\n",
       "      <th>nationality</th>\n",
       "      <th>page</th>\n",
       "      <th>title</th>\n",
       "      <th>titleID</th>\n",
       "    </tr>\n",
       "  </thead>\n",
       "  <tbody>\n",
       "    <tr>\n",
       "      <th>2438</th>\n",
       "      <td>1998</td>\n",
       "      <td>ecrivain</td>\n",
       "      <td>GDL1998-02-21</td>\n",
       "      <td>Ernst JUnger</td>\n",
       "      <td>allemand</td>\n",
       "      <td>39</td>\n",
       "      <td>LucBondyrevientauThéâtredeVidy</td>\n",
       "      <td>666</td>\n",
       "    </tr>\n",
       "    <tr>\n",
       "      <th>832</th>\n",
       "      <td>1998</td>\n",
       "      <td>ecrivain</td>\n",
       "      <td>JDG1998-02-21</td>\n",
       "      <td>Ernst JUnger</td>\n",
       "      <td>allemand</td>\n",
       "      <td>39</td>\n",
       "      <td>LucBondyrevientauThéâtredeVidy</td>\n",
       "      <td>666</td>\n",
       "    </tr>\n",
       "    <tr>\n",
       "      <th>2588</th>\n",
       "      <td>1998</td>\n",
       "      <td>ecrivain</td>\n",
       "      <td>GDL1998-02-18</td>\n",
       "      <td>Ernst Jiinger</td>\n",
       "      <td>allemand</td>\n",
       "      <td>27</td>\n",
       "      <td>Après102ansentregloireetpolémiqueslécrivainErn...</td>\n",
       "      <td>666</td>\n",
       "    </tr>\n",
       "    <tr>\n",
       "      <th>49</th>\n",
       "      <td>1998</td>\n",
       "      <td>ecrivain</td>\n",
       "      <td>JDG1998-02-26</td>\n",
       "      <td>Madeleine Santschi</td>\n",
       "      <td>suisse</td>\n",
       "      <td>15</td>\n",
       "      <td>LacadémicienMichelSerresobtientgaindecausecont...</td>\n",
       "      <td>666</td>\n",
       "    </tr>\n",
       "    <tr>\n",
       "      <th>2879</th>\n",
       "      <td>1998</td>\n",
       "      <td>ecrivain</td>\n",
       "      <td>GDL1998-02-24</td>\n",
       "      <td>Rachid Boudjedra</td>\n",
       "      <td>algérien</td>\n",
       "      <td>27</td>\n",
       "      <td>PourdéfendreLaPéricholedOffenbachheureusementq...</td>\n",
       "      <td>666</td>\n",
       "    </tr>\n",
       "  </tbody>\n",
       "</table>\n",
       "</div>"
      ],
      "text/plain": [
       "      date  function          issue                name nationality page  \\\n",
       "2438  1998  ecrivain  GDL1998-02-21        Ernst JUnger    allemand   39   \n",
       "832   1998  ecrivain  JDG1998-02-21        Ernst JUnger    allemand   39   \n",
       "2588  1998  ecrivain  GDL1998-02-18       Ernst Jiinger    allemand   27   \n",
       "49    1998  ecrivain  JDG1998-02-26  Madeleine Santschi      suisse   15   \n",
       "2879  1998  ecrivain  GDL1998-02-24    Rachid Boudjedra    algérien   27   \n",
       "\n",
       "                                                  title titleID  \n",
       "2438                     LucBondyrevientauThéâtredeVidy     666  \n",
       "832                      LucBondyrevientauThéâtredeVidy     666  \n",
       "2588  Après102ansentregloireetpolémiqueslécrivainErn...     666  \n",
       "49    LacadémicienMichelSerresobtientgaindecausecont...     666  \n",
       "2879  PourdéfendreLaPéricholedOffenbachheureusementq...     666  "
      ]
     },
     "metadata": {},
     "output_type": "display_data"
    }
   ],
   "source": [
    "display(Table.head())"
   ]
  },
  {
   "cell_type": "code",
   "execution_count": null,
   "metadata": {},
   "outputs": [],
   "source": [
    "#Using the function to get the outputs\n",
    "Extract_function(allFiles).to_csv('csv_function_out', index=False)"
   ]
  },
  {
   "cell_type": "markdown",
   "metadata": {},
   "source": [
    "### Extraction information of pulses\n",
    "In order to search within the set of pulses, we must disambiguate the functions that are \n",
    "\n",
    "Model:\n",
    "\"Adam Smith était économiste en 1780\"\n",
    "\n",
    "And we will cut it into:\n",
    "#AdamSmith #in #économiste #when #1789"
   ]
  },
  {
   "cell_type": "code",
   "execution_count": null,
   "metadata": {},
   "outputs": [],
   "source": [
    "Pulse = pd.Series(Table['name'] + ' était ' + Table['function'] + ' en ' + Table['date'] + ' #' + Table['name'].str.replace(' ', '').str.replace('-', '').str.replace('.', '') + ' #' + Table['function'].str.replace(' ', '') + ' #' + Table['issue']).str.replace('-', '')\n",
    "display)"
   ]
  },
  {
   "cell_type": "markdown",
   "metadata": {},
   "source": [
    "## 1.1. Mention treatment\n",
    "In this part we will use the SPARQL outputs in order to make #mention pulses. The parentheses are showing that it is a generic parameter, meaning that the pulse will contain the information that is inside it. The pulses will be the following:\n",
    "\n",
    "\n",
    "#Mention #(Name) #in #(title_articleID_pagenumber)"
   ]
  },
  {
   "cell_type": "code",
   "execution_count": 93,
   "metadata": {},
   "outputs": [],
   "source": [
    "def MentionTreatment(Input):\n",
    "    Input['Pulse'] = '#mention #' + Input['name'].str.replace('\\W', '') + ' #in #' + Input['title'] + '_' + Input['titleID'] + '_' + Input['page']\n",
    "    return Input['Pulse']"
   ]
  },
  {
   "cell_type": "code",
   "execution_count": 94,
   "metadata": {},
   "outputs": [],
   "source": [
    "#Applying the function and exporting the results as a CSV\n",
    "#MentionTreatment(Table).to_csv('mention_treated', index=False)"
   ]
  },
  {
   "cell_type": "markdown",
   "metadata": {},
   "source": [
    "## 1.2. Source treatment \n",
    "The format is:\n",
    "\n",
    "#in #(titre) #"
   ]
  },
  {
   "cell_type": "code",
   "execution_count": 95,
   "metadata": {},
   "outputs": [],
   "source": [
    "def SourceTreatment(Input):\n",
    "    Input['Pulse'] = '#in #' + Input['title'] + ' #' + Input['issue']\n",
    "    return Input['Pulse']"
   ]
  },
  {
   "cell_type": "code",
   "execution_count": 96,
   "metadata": {},
   "outputs": [],
   "source": [
    "#Applying the function and exporting the results as a CSV\n",
    "#SourceTreatment(Table).to_csv('source_treated', index=False)"
   ]
  },
  {
   "cell_type": "markdown",
   "metadata": {},
   "source": [
    "## 1.3. Person's function\n",
    "The format is:\n",
    "\n",
    "#(person) #in #(function) #where #(date)"
   ]
  },
  {
   "cell_type": "code",
   "execution_count": 101,
   "metadata": {},
   "outputs": [],
   "source": [
    "def PersonFunction(Input):\n",
    "    Input['Pulse'] = '#' + Input['name'].str.replace('\\W', '') + '#in #' + Input['function'] + '#when #' + Input['date']\n",
    "    return Input['Pulse']"
   ]
  },
  {
   "cell_type": "code",
   "execution_count": 102,
   "metadata": {},
   "outputs": [],
   "source": [
    "#Applying the function and exporting the results as a CSV\n",
    "#PersonFunction(Table).to_csv('person_function', index=False)"
   ]
  },
  {
   "cell_type": "markdown",
   "metadata": {},
   "source": [
    "## 1.4. Person's nationality\n",
    "The format is: \n",
    "\n",
    "#(person) #in #(nationality)"
   ]
  },
  {
   "cell_type": "code",
   "execution_count": 103,
   "metadata": {},
   "outputs": [],
   "source": [
    "def PersonNationality(Input):\n",
    "    Input['Pulse'] = '#' + Input['name'].str.replace('\\W', '') + '#in #' + Input['nationality']\n",
    "    return Input['Pulse']"
   ]
  },
  {
   "cell_type": "code",
   "execution_count": 104,
   "metadata": {},
   "outputs": [],
   "source": [
    "#Applying the function and exporting the results as a CSV\n",
    "#PersonNationality(Table).to_csv('person_nationality', index=False)"
   ]
  },
  {
   "cell_type": "markdown",
   "metadata": {},
   "source": [
    "## 2. Dealing with locations\n",
    "##### Data wrangling\n",
    "We first deal with the SPARQL outputs and then put it in a format that is more convenient to manipulate."
   ]
  },
  {
   "cell_type": "code",
   "execution_count": null,
   "metadata": {},
   "outputs": [],
   "source": [
    "LocTable = pd.DataFrame(columns=['location', 'title', 'titleID'])"
   ]
  },
  {
   "cell_type": "markdown",
   "metadata": {},
   "source": [
    "##### Pulse creation\n",
    "In this part, we will create pulses indicating places that were mentioned in one article. The format is the following:\n",
    "\n",
    "#mention #(lieu) #(title_articleID)"
   ]
  },
  {
   "cell_type": "code",
   "execution_count": 105,
   "metadata": {},
   "outputs": [],
   "source": [
    "def LocationExtraction(Input):\n",
    "    Input['Pulse'] = '#mention #' + Input['location'] + ' #' + Input['title'] + '_' + Input['titleID']\n",
    "    return Input['Pulse']"
   ]
  },
  {
   "cell_type": "code",
   "execution_count": null,
   "metadata": {},
   "outputs": [],
   "source": [
    "#Applying the function and exporting the results as a CSV\n",
    "#LocationExtraction(Table).to_csv('Location', index=False)"
   ]
  }
 ],
 "metadata": {
  "kernelspec": {
   "display_name": "Python [default]",
   "language": "python",
   "name": "python3"
  },
  "language_info": {
   "codemirror_mode": {
    "name": "ipython",
    "version": 3
   },
   "file_extension": ".py",
   "mimetype": "text/x-python",
   "name": "python",
   "nbconvert_exporter": "python",
   "pygments_lexer": "ipython3",
   "version": "3.6.3"
  }
 },
 "nbformat": 4,
 "nbformat_minor": 2
}
