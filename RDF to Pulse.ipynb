{
 "cells": [
  {
   "cell_type": "markdown",
   "metadata": {},
   "source": [
    "# Desirialization of the RDF graph from Le Temps database\n",
    "\n",
    "This code aims at creating pulses for the ClioWire platform.\n",
    "\n",
    "##### Note:\n",
    "Because of the confidential nature of the data, all of the items from the dataset are stored locally. "
   ]
  },
  {
   "cell_type": "code",
   "execution_count": 23,
   "metadata": {},
   "outputs": [],
   "source": [
    "#Importing the necessary librairies\n",
    "import pandas as pd\n",
    "import numpy as np\n",
    "import glob\n",
    "import re"
   ]
  },
  {
   "cell_type": "code",
   "execution_count": 81,
   "metadata": {},
   "outputs": [],
   "source": [
    "#Getting all the CSV, obtained from SPARQL queries.\n",
    "allFiles = glob.glob(\"Data/functions/*.csv\")"
   ]
  },
  {
   "cell_type": "code",
   "execution_count": 82,
   "metadata": {},
   "outputs": [
    {
     "data": {
      "text/plain": [
       "['Data/functions\\\\ecrivain.csv']"
      ]
     },
     "metadata": {},
     "output_type": "display_data"
    }
   ],
   "source": [
    "display(allFiles)"
   ]
  },
  {
   "cell_type": "markdown",
   "metadata": {},
   "source": [
    "## Sorting the SPARQL outputs into a well strctured DataFrame"
   ]
  },
  {
   "cell_type": "code",
   "execution_count": 85,
   "metadata": {},
   "outputs": [],
   "source": [
    "#Initiating the DataFrame\n",
    "Table = pd.DataFrame(columns=['issue', 'date', 'artid', 'page', 'name', 'function', 'nationality'])\n",
    "K = 0\n",
    "while (K < int(len(allFiles))):\n",
    "    #Creating a DataFrame and filling it with the excel's data\n",
    "    title = allFiles[K][15:].replace('.csv', '')\n",
    "    df = pd.read_csv(allFiles[K])\n",
    "    df['function'] = title\n",
    "    Table = Table.append(df)\n",
    "    K+=1  \n",
    "\n",
    "\n",
    "\n",
    "#Extracting issue date\n",
    "Table['issue'] = Table['issue'] + Table.date.str[:10]\n",
    "Table['date'] = Table.date.str[:4]\n",
    "\n",
    "#Cleaning the issue date\n",
    "Table['issue'] = Table['issue'].str.replace('-', '_')\n",
    "\n",
    "#Cutting the title in order not to excess the maximum size of pulses\n",
    "Table['title'] = Table.title.str[:100]\n",
    "\n",
    "#Sorting values\n",
    "Table = Table.sort_values('date', ascending=False)\n",
    "\n",
    "#Keeping only alphabetical characters to be able to use the title as a hastaga\n",
    "Table['title'] = Table.title.str.replace('\\W', '')\n",
    "\n",
    "#Rearranging the page number by removing periods\n",
    "Table['page'] = Table['page'].astype(str).str[:2]\n",
    "Table['page'] = Table['page'].str.replace('.', '').apply(str)\n",
    "\n",
    "#Converting the articleID into a string\n",
    "Table['artid'] = Table['artid'].apply(str)\n",
    "\n",
    "#Dropping dupiplicates of names\n",
    "Table = Table.drop_duplicates('name')\n"
   ]
  },
  {
   "cell_type": "code",
   "execution_count": 86,
   "metadata": {},
   "outputs": [
    {
     "data": {
      "text/html": [
       "<div>\n",
       "<style>\n",
       "    .dataframe thead tr:only-child th {\n",
       "        text-align: right;\n",
       "    }\n",
       "\n",
       "    .dataframe thead th {\n",
       "        text-align: left;\n",
       "    }\n",
       "\n",
       "    .dataframe tbody tr th {\n",
       "        vertical-align: top;\n",
       "    }\n",
       "</style>\n",
       "<table border=\"1\" class=\"dataframe\">\n",
       "  <thead>\n",
       "    <tr style=\"text-align: right;\">\n",
       "      <th></th>\n",
       "      <th>artid</th>\n",
       "      <th>date</th>\n",
       "      <th>function</th>\n",
       "      <th>issue</th>\n",
       "      <th>name</th>\n",
       "      <th>nationality</th>\n",
       "      <th>page</th>\n",
       "      <th>title</th>\n",
       "    </tr>\n",
       "  </thead>\n",
       "  <tbody>\n",
       "    <tr>\n",
       "      <th>30622</th>\n",
       "      <td>3191430</td>\n",
       "      <td>1998</td>\n",
       "      <td>ecrivain</td>\n",
       "      <td>GDL1998_02_28</td>\n",
       "      <td>Michel Serres</td>\n",
       "      <td>français</td>\n",
       "      <td>36</td>\n",
       "      <td>Voslettres</td>\n",
       "    </tr>\n",
       "    <tr>\n",
       "      <th>22383</th>\n",
       "      <td>3186293</td>\n",
       "      <td>1998</td>\n",
       "      <td>ecrivain</td>\n",
       "      <td>GDL1998_02_27</td>\n",
       "      <td>Bohumil Hrabal</td>\n",
       "      <td>tchèque</td>\n",
       "      <td>38</td>\n",
       "      <td>Lagendadesspectaclesetconcertsdulundi9audimanc...</td>\n",
       "    </tr>\n",
       "    <tr>\n",
       "      <th>6136</th>\n",
       "      <td>849344</td>\n",
       "      <td>1998</td>\n",
       "      <td>ecrivain</td>\n",
       "      <td>JDG1998_02_24</td>\n",
       "      <td>Rachid Boudjedra</td>\n",
       "      <td>algérien</td>\n",
       "      <td>27</td>\n",
       "      <td>PourdéfendreLaPéricholedOffenbachheureusementq...</td>\n",
       "    </tr>\n",
       "    <tr>\n",
       "      <th>4345</th>\n",
       "      <td>4209929</td>\n",
       "      <td>1998</td>\n",
       "      <td>ecrivain</td>\n",
       "      <td>JDG1998_01_19</td>\n",
       "      <td>GUnter Grass</td>\n",
       "      <td>allemand</td>\n",
       "      <td>15</td>\n",
       "      <td>Beauxarts</td>\n",
       "    </tr>\n",
       "    <tr>\n",
       "      <th>26481</th>\n",
       "      <td>3106148</td>\n",
       "      <td>1998</td>\n",
       "      <td>ecrivain</td>\n",
       "      <td>GDL1998_02_18</td>\n",
       "      <td>Ernst Jiinger</td>\n",
       "      <td>allemand</td>\n",
       "      <td>27</td>\n",
       "      <td>Après102ansentregloireetpolémiqueslécrivainErn...</td>\n",
       "    </tr>\n",
       "  </tbody>\n",
       "</table>\n",
       "</div>"
      ],
      "text/plain": [
       "         artid  date  function          issue              name nationality  \\\n",
       "30622  3191430  1998  ecrivain  GDL1998_02_28     Michel Serres    français   \n",
       "22383  3186293  1998  ecrivain  GDL1998_02_27    Bohumil Hrabal     tchèque   \n",
       "6136    849344  1998  ecrivain  JDG1998_02_24  Rachid Boudjedra    algérien   \n",
       "4345   4209929  1998  ecrivain  JDG1998_01_19      GUnter Grass    allemand   \n",
       "26481  3106148  1998  ecrivain  GDL1998_02_18     Ernst Jiinger    allemand   \n",
       "\n",
       "      page                                              title  \n",
       "30622   36                                         Voslettres  \n",
       "22383   38  Lagendadesspectaclesetconcertsdulundi9audimanc...  \n",
       "6136    27  PourdéfendreLaPéricholedOffenbachheureusementq...  \n",
       "4345    15                                          Beauxarts  \n",
       "26481   27  Après102ansentregloireetpolémiqueslécrivainErn...  "
      ]
     },
     "metadata": {},
     "output_type": "display_data"
    }
   ],
   "source": [
    "display(Table.head())"
   ]
  },
  {
   "cell_type": "code",
   "execution_count": null,
   "metadata": {},
   "outputs": [],
   "source": [
    "#Using the function to get the outputs\n",
    "#Extract_function(allFiles).to_csv('csv_function_out', index=False)"
   ]
  },
  {
   "cell_type": "markdown",
   "metadata": {},
   "source": [
    "# Extracting the information for pulses\n",
    "In order to search within the set of pulses, we must disambiguate the functions that are \n",
    "\n",
    "Model:\n",
    "\"Adam Smith était économiste en 1780\"\n",
    "\n",
    "And we will cut it into:\n",
    "\n",
    "\"#AdamSmith #in #économiste #when #1789\""
   ]
  },
  {
   "cell_type": "markdown",
   "metadata": {},
   "source": [
    "## 1.1. Mention treatment\n",
    "In this part we will use the SPARQL outputs in order to make #mention pulses. The parentheses are showing that it is a generic parameter, meaning that the pulse will contain the information that is inside it. The pulses will be the following:\n",
    "\n",
    "\n",
    "\"#Mention #(Name) #in #(title_articleID_pagenumber)\""
   ]
  },
  {
   "cell_type": "code",
   "execution_count": 59,
   "metadata": {},
   "outputs": [],
   "source": [
    "def MentionTreatment(Input):\n",
    "    Input['Pulse'] = '#mention #' + Input['name'].str.replace('\\W', '') + ' #in #' + Input['title'] + '_articleID' + Input['artid'] + '_page' + Input['page']\n",
    "    return Input['Pulse']"
   ]
  },
  {
   "cell_type": "code",
   "execution_count": 61,
   "metadata": {},
   "outputs": [],
   "source": [
    "#Applying the function and exporting the results as a CSV\n",
    "MentionTreatment(Table).to_csv('mention_treated.csv', index=False)"
   ]
  },
  {
   "cell_type": "markdown",
   "metadata": {},
   "source": [
    "## 1.2. Source treatment \n",
    "The format is:\n",
    "\n",
    "\"#in #(titre)_(artid)_(page) #in #(titre)_(artid) #in #(issue)  \" "
   ]
  },
  {
   "cell_type": "code",
   "execution_count": 108,
   "metadata": {},
   "outputs": [],
   "source": [
    "def SourceTreatment(Input):\n",
    "    Input['Pulse'] = '#in #' + Input['title'] + '_articleID' + Input['artid'] + '_page' + Input['page'] + ' #in #' + Input['title'] + '_articleID' + Input['page'] + ' #in #' + Input['issue']\n",
    "    return Input['Pulse']"
   ]
  },
  {
   "cell_type": "code",
   "execution_count": 71,
   "metadata": {},
   "outputs": [],
   "source": [
    "#Applying the function and exporting the results as a CSV\n",
    "SourceTreatment(Table).to_csv('source_treated.csv', index=False)"
   ]
  },
  {
   "cell_type": "markdown",
   "metadata": {},
   "source": [
    "## 1.3. Person's function\n",
    "The format is:\n",
    "\n",
    "\"#(person) #in #(function) #where #(date)\""
   ]
  },
  {
   "cell_type": "code",
   "execution_count": 79,
   "metadata": {},
   "outputs": [],
   "source": [
    "def PersonFunction(Input):\n",
    "    Input['Pulse'] = '#' + Input['name'].str.replace('\\W', '') + ' #in #' + Input['function'] + ' #when #' + Input['date']\n",
    "    return Input['Pulse']"
   ]
  },
  {
   "cell_type": "code",
   "execution_count": 80,
   "metadata": {},
   "outputs": [],
   "source": [
    "#Applying the function and exporting the results as a CSV\n",
    "PersonFunction(Table).to_csv('person_function.csv', index=False)"
   ]
  },
  {
   "cell_type": "markdown",
   "metadata": {},
   "source": [
    "## 1.4. Person's nationality\n",
    "The format is: \n",
    "\n",
    "\"#(person) #in #(nationality)\""
   ]
  },
  {
   "cell_type": "code",
   "execution_count": 75,
   "metadata": {},
   "outputs": [],
   "source": [
    "def PersonNationality(Input):\n",
    "    Input['Pulse'] = '#' + Input['name'].str.replace('\\W', '') + '#in #' + Input['nationality']\n",
    "    return Input['Pulse']"
   ]
  },
  {
   "cell_type": "code",
   "execution_count": 76,
   "metadata": {},
   "outputs": [],
   "source": [
    "#Applying the function and exporting the results as a CSV\n",
    "PersonNationality(Table).to_csv('person_nationality.csv', index=False)"
   ]
  },
  {
   "cell_type": "markdown",
   "metadata": {},
   "source": [
    "## 2. Dealing with locations\n",
    "##### Data wrangling\n",
    "We first deal with the SPARQL outputs and then put it in a format that is more convenient to manipulate."
   ]
  },
  {
   "cell_type": "code",
   "execution_count": 112,
   "metadata": {},
   "outputs": [
    {
     "data": {
      "text/html": [
       "<div>\n",
       "<style>\n",
       "    .dataframe thead tr:only-child th {\n",
       "        text-align: right;\n",
       "    }\n",
       "\n",
       "    .dataframe thead th {\n",
       "        text-align: left;\n",
       "    }\n",
       "\n",
       "    .dataframe tbody tr th {\n",
       "        vertical-align: top;\n",
       "    }\n",
       "</style>\n",
       "<table border=\"1\" class=\"dataframe\">\n",
       "  <thead>\n",
       "    <tr style=\"text-align: right;\">\n",
       "      <th></th>\n",
       "      <th>location</th>\n",
       "      <th>issue</th>\n",
       "      <th>date</th>\n",
       "      <th>title</th>\n",
       "      <th>artid</th>\n",
       "      <th>page</th>\n",
       "      <th>year</th>\n",
       "    </tr>\n",
       "  </thead>\n",
       "  <tbody>\n",
       "    <tr>\n",
       "      <th>0</th>\n",
       "      <td>Autriche</td>\n",
       "      <td>JDG1868_01_01</td>\n",
       "      <td>1868</td>\n",
       "      <td>UntitledArticle</td>\n",
       "      <td>2971954</td>\n",
       "      <td>2</td>\n",
       "      <td>1868</td>\n",
       "    </tr>\n",
       "    <tr>\n",
       "      <th>1</th>\n",
       "      <td>Autriche</td>\n",
       "      <td>JDG1882_01_01</td>\n",
       "      <td>1882</td>\n",
       "      <td>i</td>\n",
       "      <td>2796744</td>\n",
       "      <td>1</td>\n",
       "      <td>1882</td>\n",
       "    </tr>\n",
       "    <tr>\n",
       "      <th>2</th>\n",
       "      <td>Brésil</td>\n",
       "      <td>JDG1889_01_01</td>\n",
       "      <td>1889</td>\n",
       "      <td>UntitledArticle</td>\n",
       "      <td>5391187</td>\n",
       "      <td>4</td>\n",
       "      <td>1889</td>\n",
       "    </tr>\n",
       "    <tr>\n",
       "      <th>3</th>\n",
       "      <td>Marseille</td>\n",
       "      <td>JDG1936_01_01</td>\n",
       "      <td>1936</td>\n",
       "      <td>UntitledArticle</td>\n",
       "      <td>2279377</td>\n",
       "      <td>9</td>\n",
       "      <td>1936</td>\n",
       "    </tr>\n",
       "    <tr>\n",
       "      <th>4</th>\n",
       "      <td>Italie</td>\n",
       "      <td>JDG1950_01_01</td>\n",
       "      <td>1950</td>\n",
       "      <td>UntitledArticle</td>\n",
       "      <td>823799</td>\n",
       "      <td>14</td>\n",
       "      <td>1950</td>\n",
       "    </tr>\n",
       "  </tbody>\n",
       "</table>\n",
       "</div>"
      ],
      "text/plain": [
       "    location          issue  date            title    artid page  year\n",
       "0   Autriche  JDG1868_01_01  1868  UntitledArticle  2971954    2  1868\n",
       "1   Autriche  JDG1882_01_01  1882                i  2796744    1  1882\n",
       "2     Brésil  JDG1889_01_01  1889  UntitledArticle  5391187    4  1889\n",
       "3  Marseille  JDG1936_01_01  1936  UntitledArticle  2279377    9  1936\n",
       "4     Italie  JDG1950_01_01  1950  UntitledArticle   823799   14  1950"
      ]
     },
     "metadata": {},
     "output_type": "display_data"
    }
   ],
   "source": [
    "LocTable = pd.read_csv('Data/Locations.csv')\n",
    "\n",
    "#Renaming columns\n",
    "LocTable.columns = ['location', 'issue', 'date', 'title', 'artid', 'page' , 'year']\n",
    "\n",
    "#Reshaping the issue\n",
    "LocTable['issue'] = LocTable['issue'] + LocTable.date.str[:10]\n",
    "LocTable['date'] = LocTable.date.str[:4]\n",
    "LocTable['issue'] = LocTable['issue'].str.replace('-', '_')\n",
    "\n",
    "#Converting the articleID and page number\n",
    "LocTable['page'] = LocTable['page'].astype(str)\n",
    "LocTable['artid'] = LocTable['artid'].apply(str)\n",
    "\n",
    "#Keeping only alphabetical characters to be able to use the title as a hastags\n",
    "LocTable['title'] = LocTable.title.str.replace('\\W', '')\n",
    "\n",
    "display(LocTable.head())"
   ]
  },
  {
   "cell_type": "markdown",
   "metadata": {},
   "source": [
    "##### Pulse creation\n",
    "In this part, we will create pulses indicating places that were mentioned in one article. The format is the following:\n",
    "\n",
    "\"#mention #(lieu) #in #(title_articleID_page)\""
   ]
  },
  {
   "cell_type": "code",
   "execution_count": 103,
   "metadata": {},
   "outputs": [],
   "source": [
    "def LocationExtraction(Input):\n",
    "    Input['Pulse'] = '#mention #' + Input['location'] + ' #in #' + Input['title'] + '_articleID' + Input['artid'] + '_page' + Input['page'] \n",
    "    return Input['Pulse']"
   ]
  },
  {
   "cell_type": "code",
   "execution_count": 104,
   "metadata": {},
   "outputs": [],
   "source": [
    "#Applying the function and exporting the results as a CSV\n",
    "LocationExtraction(LocTable).to_csv('Location_pulse.csv', index=False)"
   ]
  },
  {
   "cell_type": "code",
   "execution_count": 113,
   "metadata": {},
   "outputs": [],
   "source": [
    "#Applying source function and exporting the results as a CSV\n",
    "SourceTreatment(LocTable).to_csv('Location_Source.csv', index=False)"
   ]
  },
  {
   "cell_type": "markdown",
   "metadata": {},
   "source": [
    "# 3. Copresence\n",
    "\n",
    "Identifying the presence of two persons in the same article.\n",
    "\n",
    "The format is:\n",
    "\n",
    "\"#copresence #(name)"
   ]
  },
  {
   "cell_type": "code",
   "execution_count": 118,
   "metadata": {},
   "outputs": [
    {
     "data": {
      "text/plain": [
       "['Data/Copresence\\\\copres_violoniste.csv']"
      ]
     },
     "metadata": {},
     "output_type": "display_data"
    }
   ],
   "source": [
    "CoFiles = glob.glob(\"Data/Copresence/*.csv\")\n",
    "display(CoFiles)"
   ]
  },
  {
   "cell_type": "code",
   "execution_count": 134,
   "metadata": {},
   "outputs": [
    {
     "data": {
      "text/html": [
       "<div>\n",
       "<style>\n",
       "    .dataframe thead tr:only-child th {\n",
       "        text-align: right;\n",
       "    }\n",
       "\n",
       "    .dataframe thead th {\n",
       "        text-align: left;\n",
       "    }\n",
       "\n",
       "    .dataframe tbody tr th {\n",
       "        vertical-align: top;\n",
       "    }\n",
       "</style>\n",
       "<table border=\"1\" class=\"dataframe\">\n",
       "  <thead>\n",
       "    <tr style=\"text-align: right;\">\n",
       "      <th></th>\n",
       "      <th>issue</th>\n",
       "      <th>date</th>\n",
       "      <th>title</th>\n",
       "      <th>artid</th>\n",
       "      <th>page</th>\n",
       "      <th>name</th>\n",
       "      <th>name1</th>\n",
       "    </tr>\n",
       "  </thead>\n",
       "  <tbody>\n",
       "    <tr>\n",
       "      <th>1</th>\n",
       "      <td>JDG</td>\n",
       "      <td>1945-11-19T05:00:00</td>\n",
       "      <td>esévénementsdetasemaine</td>\n",
       "      <td>5037612</td>\n",
       "      <td>5</td>\n",
       "      <td>Jacques Tliibaud</td>\n",
       "      <td>Victoria Hall</td>\n",
       "    </tr>\n",
       "    <tr>\n",
       "      <th>7</th>\n",
       "      <td>JDG</td>\n",
       "      <td>1955-09-24T05:00:00</td>\n",
       "      <td>ANYONRécitalGezaAnda</td>\n",
       "      <td>1259063</td>\n",
       "      <td>12</td>\n",
       "      <td>Dayy Erlih</td>\n",
       "      <td>Geza Anda</td>\n",
       "    </tr>\n",
       "    <tr>\n",
       "      <th>9</th>\n",
       "      <td>JDG</td>\n",
       "      <td>1945-02-26T05:00:00</td>\n",
       "      <td>esévénementsdelasemaine</td>\n",
       "      <td>5049696</td>\n",
       "      <td>3</td>\n",
       "      <td>Ginette Neveu</td>\n",
       "      <td>M. Eric Schmidt</td>\n",
       "    </tr>\n",
       "    <tr>\n",
       "      <th>16</th>\n",
       "      <td>JDG</td>\n",
       "      <td>1952-05-17T05:00:00</td>\n",
       "      <td>AuTribunaldeDivision5Extravagancesdunchefdesca...</td>\n",
       "      <td>2540038</td>\n",
       "      <td>2</td>\n",
       "      <td>Anja Ignatius</td>\n",
       "      <td>Antoine Buehler</td>\n",
       "    </tr>\n",
       "    <tr>\n",
       "      <th>18</th>\n",
       "      <td>JDG</td>\n",
       "      <td>1950-04-19T05:00:00</td>\n",
       "      <td>UntitledArticle</td>\n",
       "      <td>353078</td>\n",
       "      <td>2</td>\n",
       "      <td>Claude Paschoud</td>\n",
       "      <td>Rainier III</td>\n",
       "    </tr>\n",
       "  </tbody>\n",
       "</table>\n",
       "</div>"
      ],
      "text/plain": [
       "   issue                 date  \\\n",
       "1    JDG  1945-11-19T05:00:00   \n",
       "7    JDG  1955-09-24T05:00:00   \n",
       "9    JDG  1945-02-26T05:00:00   \n",
       "16   JDG  1952-05-17T05:00:00   \n",
       "18   JDG  1950-04-19T05:00:00   \n",
       "\n",
       "                                                title    artid page  \\\n",
       "1                             esévénementsdetasemaine  5037612    5   \n",
       "7                                ANYONRécitalGezaAnda  1259063   12   \n",
       "9                             esévénementsdelasemaine  5049696    3   \n",
       "16  AuTribunaldeDivision5Extravagancesdunchefdesca...  2540038    2   \n",
       "18                                    UntitledArticle   353078    2   \n",
       "\n",
       "                name            name1  \n",
       "1   Jacques Tliibaud    Victoria Hall  \n",
       "7         Dayy Erlih        Geza Anda  \n",
       "9      Ginette Neveu  M. Eric Schmidt  \n",
       "16     Anja Ignatius  Antoine Buehler  \n",
       "18   Claude Paschoud      Rainier III  "
      ]
     },
     "metadata": {},
     "output_type": "display_data"
    }
   ],
   "source": [
    "CoTable = pd.DataFrame(columns=['issue', 'date','title' , 'artid', 'page', 'name', 'function', 'nationality', 'name1', 'function1'])\n",
    "K = 0\n",
    "while (K < int(len(CoFiles))):\n",
    "    #Creating a DataFrame and filling it with the excel's data\n",
    "    df = pd.read_csv(CoFiles[K])\n",
    "    CoTable = CoTable.append(df)\n",
    "    K+=1  \n",
    "\n",
    "#Dropping unecessary columns\n",
    "CoTable = CoTable.drop(['function', 'nationality', 'function1'], axis=1)\n",
    "\n",
    "#Dropping self matching\n",
    "CoTable = CoTable[CoTable['name'] != CoTable['name1']]\n",
    "\n",
    "#Dropping duplicates\n",
    "CoTable = CoTable.drop_duplicates('name')\n",
    "\n",
    "#Converting the articleID and page number\n",
    "CoTable['page'] = CoTable['page'].astype(str)\n",
    "CoTable['artid'] = CoTable['artid'].apply(str)\n",
    "\n",
    "#Keeping only alphabetical characters to be able to use the title as a hastaga\n",
    "CoTable['title'] = CoTable.title.str.replace('\\W', '')\n",
    "\n",
    "\n",
    "display(CoTable.head())"
   ]
  },
  {
   "cell_type": "code",
   "execution_count": 140,
   "metadata": {},
   "outputs": [],
   "source": [
    "def CopresenceExtraction(Input):\n",
    "    Input['Pulse'] = '#copresence #' + Input['name'].str.replace('\\W', '') + ' #' + Input['name1'] + ' #in #'  + Input['title'] + '_articleID' + Input['artid'] + '_page' + Input['page']\n",
    "    return Input['Pulse']"
   ]
  },
  {
   "cell_type": "code",
   "execution_count": 142,
   "metadata": {},
   "outputs": [],
   "source": [
    "#Applying the function and exporting the results as a CSV\n",
    "CopresenceExtraction(CoTable).to_csv('Copresence_pulse.csv', index=False)"
   ]
  }
 ],
 "metadata": {
  "kernelspec": {
   "display_name": "Python [default]",
   "language": "python",
   "name": "python3"
  },
  "language_info": {
   "codemirror_mode": {
    "name": "ipython",
    "version": 3
   },
   "file_extension": ".py",
   "mimetype": "text/x-python",
   "name": "python",
   "nbconvert_exporter": "python",
   "pygments_lexer": "ipython3",
   "version": "3.6.3"
  }
 },
 "nbformat": 4,
 "nbformat_minor": 2
}
